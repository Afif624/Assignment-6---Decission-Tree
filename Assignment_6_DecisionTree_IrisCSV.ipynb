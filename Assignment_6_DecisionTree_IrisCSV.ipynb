{
  "nbformat": 4,
  "nbformat_minor": 0,
  "metadata": {
    "colab": {
      "provenance": []
    },
    "kernelspec": {
      "name": "python3",
      "display_name": "Python 3"
    },
    "language_info": {
      "name": "python"
    }
  },
  "cells": [
    {
      "cell_type": "code",
      "metadata": {
        "id": "rw2trGGto-4O"
      },
      "source": [
        "#Import library numpy, pandas dan scikit-learn\n",
        "import numpy as np\n",
        "import pandas as pd\n",
        "from sklearn import tree"
      ],
      "execution_count": 32,
      "outputs": []
    },
    {
      "cell_type": "code",
      "metadata": {
        "id": "acy6kUs3phwJ"
      },
      "source": [
        "#Membaca Dataset dari File ke Pandas dataFrame\n",
        "irisDataset = pd.read_csv('canceled_test.csv', delimiter=';', header=0)"
      ],
      "execution_count": 33,
      "outputs": []
    },
    {
      "cell_type": "code",
      "metadata": {
        "colab": {
          "base_uri": "https://localhost:8080/",
          "height": 206
        },
        "id": "mXJkzuYNpULA",
        "outputId": "2159699f-c15e-4464-dedc-b61f1cd6bcbd"
      },
      "source": [
        "irisDataset.head()"
      ],
      "execution_count": 34,
      "outputs": [
        {
          "output_type": "execute_result",
          "data": {
            "text/plain": [
              "   ORDER_NO                      DATE  LINE  CUSTOMER_NO      ITEM  NC_ORDER  \\\n",
              "0    528703  Tuesday, January 3, 2017     1      1857566  10135139         1   \n",
              "1    528705  Tuesday, January 3, 2017     1      1857566  10135140         1   \n",
              "2    528706  Tuesday, January 3, 2017     2      1857566  10135138         1   \n",
              "3    528707  Tuesday, January 3, 2017     1      1857566  10135132         1   \n",
              "4    528708  Tuesday, January 3, 2017     1      1857566  10135359         1   \n",
              "\n",
              "   NC_SHIP  \n",
              "0        1  \n",
              "1        1  \n",
              "2        1  \n",
              "3        1  \n",
              "4        1  "
            ],
            "text/html": [
              "\n",
              "  <div id=\"df-6a73654d-f3c0-486f-9979-99dfa9f31c71\">\n",
              "    <div class=\"colab-df-container\">\n",
              "      <div>\n",
              "<style scoped>\n",
              "    .dataframe tbody tr th:only-of-type {\n",
              "        vertical-align: middle;\n",
              "    }\n",
              "\n",
              "    .dataframe tbody tr th {\n",
              "        vertical-align: top;\n",
              "    }\n",
              "\n",
              "    .dataframe thead th {\n",
              "        text-align: right;\n",
              "    }\n",
              "</style>\n",
              "<table border=\"1\" class=\"dataframe\">\n",
              "  <thead>\n",
              "    <tr style=\"text-align: right;\">\n",
              "      <th></th>\n",
              "      <th>ORDER_NO</th>\n",
              "      <th>DATE</th>\n",
              "      <th>LINE</th>\n",
              "      <th>CUSTOMER_NO</th>\n",
              "      <th>ITEM</th>\n",
              "      <th>NC_ORDER</th>\n",
              "      <th>NC_SHIP</th>\n",
              "    </tr>\n",
              "  </thead>\n",
              "  <tbody>\n",
              "    <tr>\n",
              "      <th>0</th>\n",
              "      <td>528703</td>\n",
              "      <td>Tuesday, January 3, 2017</td>\n",
              "      <td>1</td>\n",
              "      <td>1857566</td>\n",
              "      <td>10135139</td>\n",
              "      <td>1</td>\n",
              "      <td>1</td>\n",
              "    </tr>\n",
              "    <tr>\n",
              "      <th>1</th>\n",
              "      <td>528705</td>\n",
              "      <td>Tuesday, January 3, 2017</td>\n",
              "      <td>1</td>\n",
              "      <td>1857566</td>\n",
              "      <td>10135140</td>\n",
              "      <td>1</td>\n",
              "      <td>1</td>\n",
              "    </tr>\n",
              "    <tr>\n",
              "      <th>2</th>\n",
              "      <td>528706</td>\n",
              "      <td>Tuesday, January 3, 2017</td>\n",
              "      <td>2</td>\n",
              "      <td>1857566</td>\n",
              "      <td>10135138</td>\n",
              "      <td>1</td>\n",
              "      <td>1</td>\n",
              "    </tr>\n",
              "    <tr>\n",
              "      <th>3</th>\n",
              "      <td>528707</td>\n",
              "      <td>Tuesday, January 3, 2017</td>\n",
              "      <td>1</td>\n",
              "      <td>1857566</td>\n",
              "      <td>10135132</td>\n",
              "      <td>1</td>\n",
              "      <td>1</td>\n",
              "    </tr>\n",
              "    <tr>\n",
              "      <th>4</th>\n",
              "      <td>528708</td>\n",
              "      <td>Tuesday, January 3, 2017</td>\n",
              "      <td>1</td>\n",
              "      <td>1857566</td>\n",
              "      <td>10135359</td>\n",
              "      <td>1</td>\n",
              "      <td>1</td>\n",
              "    </tr>\n",
              "  </tbody>\n",
              "</table>\n",
              "</div>\n",
              "      <button class=\"colab-df-convert\" onclick=\"convertToInteractive('df-6a73654d-f3c0-486f-9979-99dfa9f31c71')\"\n",
              "              title=\"Convert this dataframe to an interactive table.\"\n",
              "              style=\"display:none;\">\n",
              "        \n",
              "  <svg xmlns=\"http://www.w3.org/2000/svg\" height=\"24px\"viewBox=\"0 0 24 24\"\n",
              "       width=\"24px\">\n",
              "    <path d=\"M0 0h24v24H0V0z\" fill=\"none\"/>\n",
              "    <path d=\"M18.56 5.44l.94 2.06.94-2.06 2.06-.94-2.06-.94-.94-2.06-.94 2.06-2.06.94zm-11 1L8.5 8.5l.94-2.06 2.06-.94-2.06-.94L8.5 2.5l-.94 2.06-2.06.94zm10 10l.94 2.06.94-2.06 2.06-.94-2.06-.94-.94-2.06-.94 2.06-2.06.94z\"/><path d=\"M17.41 7.96l-1.37-1.37c-.4-.4-.92-.59-1.43-.59-.52 0-1.04.2-1.43.59L10.3 9.45l-7.72 7.72c-.78.78-.78 2.05 0 2.83L4 21.41c.39.39.9.59 1.41.59.51 0 1.02-.2 1.41-.59l7.78-7.78 2.81-2.81c.8-.78.8-2.07 0-2.86zM5.41 20L4 18.59l7.72-7.72 1.47 1.35L5.41 20z\"/>\n",
              "  </svg>\n",
              "      </button>\n",
              "      \n",
              "  <style>\n",
              "    .colab-df-container {\n",
              "      display:flex;\n",
              "      flex-wrap:wrap;\n",
              "      gap: 12px;\n",
              "    }\n",
              "\n",
              "    .colab-df-convert {\n",
              "      background-color: #E8F0FE;\n",
              "      border: none;\n",
              "      border-radius: 50%;\n",
              "      cursor: pointer;\n",
              "      display: none;\n",
              "      fill: #1967D2;\n",
              "      height: 32px;\n",
              "      padding: 0 0 0 0;\n",
              "      width: 32px;\n",
              "    }\n",
              "\n",
              "    .colab-df-convert:hover {\n",
              "      background-color: #E2EBFA;\n",
              "      box-shadow: 0px 1px 2px rgba(60, 64, 67, 0.3), 0px 1px 3px 1px rgba(60, 64, 67, 0.15);\n",
              "      fill: #174EA6;\n",
              "    }\n",
              "\n",
              "    [theme=dark] .colab-df-convert {\n",
              "      background-color: #3B4455;\n",
              "      fill: #D2E3FC;\n",
              "    }\n",
              "\n",
              "    [theme=dark] .colab-df-convert:hover {\n",
              "      background-color: #434B5C;\n",
              "      box-shadow: 0px 1px 3px 1px rgba(0, 0, 0, 0.15);\n",
              "      filter: drop-shadow(0px 1px 2px rgba(0, 0, 0, 0.3));\n",
              "      fill: #FFFFFF;\n",
              "    }\n",
              "  </style>\n",
              "\n",
              "      <script>\n",
              "        const buttonEl =\n",
              "          document.querySelector('#df-6a73654d-f3c0-486f-9979-99dfa9f31c71 button.colab-df-convert');\n",
              "        buttonEl.style.display =\n",
              "          google.colab.kernel.accessAllowed ? 'block' : 'none';\n",
              "\n",
              "        async function convertToInteractive(key) {\n",
              "          const element = document.querySelector('#df-6a73654d-f3c0-486f-9979-99dfa9f31c71');\n",
              "          const dataTable =\n",
              "            await google.colab.kernel.invokeFunction('convertToInteractive',\n",
              "                                                     [key], {});\n",
              "          if (!dataTable) return;\n",
              "\n",
              "          const docLinkHtml = 'Like what you see? Visit the ' +\n",
              "            '<a target=\"_blank\" href=https://colab.research.google.com/notebooks/data_table.ipynb>data table notebook</a>'\n",
              "            + ' to learn more about interactive tables.';\n",
              "          element.innerHTML = '';\n",
              "          dataTable['output_type'] = 'display_data';\n",
              "          await google.colab.output.renderOutput(dataTable, element);\n",
              "          const docLink = document.createElement('div');\n",
              "          docLink.innerHTML = docLinkHtml;\n",
              "          element.appendChild(docLink);\n",
              "        }\n",
              "      </script>\n",
              "    </div>\n",
              "  </div>\n",
              "  "
            ]
          },
          "metadata": {},
          "execution_count": 34
        }
      ]
    },
    {
      "cell_type": "code",
      "metadata": {
        "id": "j2ZolV4uqjwO"
      },
      "source": [
        "#Mengubah kelas (kolom \"Species\") dari String ke Unique-Integer\n",
        "irisDataset[\"DATE\"] = pd.factorize(irisDataset.DATE)[0]"
      ],
      "execution_count": 35,
      "outputs": []
    },
    {
      "cell_type": "code",
      "metadata": {
        "colab": {
          "base_uri": "https://localhost:8080/",
          "height": 206
        },
        "id": "alQWmcVRphpT",
        "outputId": "3f16179c-bea3-4d2a-92e3-cf754a5492f7"
      },
      "source": [
        "irisDataset.head()"
      ],
      "execution_count": 36,
      "outputs": [
        {
          "output_type": "execute_result",
          "data": {
            "text/plain": [
              "   ORDER_NO  DATE  LINE  CUSTOMER_NO      ITEM  NC_ORDER  NC_SHIP\n",
              "0    528703     0     1      1857566  10135139         1        1\n",
              "1    528705     0     1      1857566  10135140         1        1\n",
              "2    528706     0     2      1857566  10135138         1        1\n",
              "3    528707     0     1      1857566  10135132         1        1\n",
              "4    528708     0     1      1857566  10135359         1        1"
            ],
            "text/html": [
              "\n",
              "  <div id=\"df-c4b9a358-2f34-4217-879c-201114d550d4\">\n",
              "    <div class=\"colab-df-container\">\n",
              "      <div>\n",
              "<style scoped>\n",
              "    .dataframe tbody tr th:only-of-type {\n",
              "        vertical-align: middle;\n",
              "    }\n",
              "\n",
              "    .dataframe tbody tr th {\n",
              "        vertical-align: top;\n",
              "    }\n",
              "\n",
              "    .dataframe thead th {\n",
              "        text-align: right;\n",
              "    }\n",
              "</style>\n",
              "<table border=\"1\" class=\"dataframe\">\n",
              "  <thead>\n",
              "    <tr style=\"text-align: right;\">\n",
              "      <th></th>\n",
              "      <th>ORDER_NO</th>\n",
              "      <th>DATE</th>\n",
              "      <th>LINE</th>\n",
              "      <th>CUSTOMER_NO</th>\n",
              "      <th>ITEM</th>\n",
              "      <th>NC_ORDER</th>\n",
              "      <th>NC_SHIP</th>\n",
              "    </tr>\n",
              "  </thead>\n",
              "  <tbody>\n",
              "    <tr>\n",
              "      <th>0</th>\n",
              "      <td>528703</td>\n",
              "      <td>0</td>\n",
              "      <td>1</td>\n",
              "      <td>1857566</td>\n",
              "      <td>10135139</td>\n",
              "      <td>1</td>\n",
              "      <td>1</td>\n",
              "    </tr>\n",
              "    <tr>\n",
              "      <th>1</th>\n",
              "      <td>528705</td>\n",
              "      <td>0</td>\n",
              "      <td>1</td>\n",
              "      <td>1857566</td>\n",
              "      <td>10135140</td>\n",
              "      <td>1</td>\n",
              "      <td>1</td>\n",
              "    </tr>\n",
              "    <tr>\n",
              "      <th>2</th>\n",
              "      <td>528706</td>\n",
              "      <td>0</td>\n",
              "      <td>2</td>\n",
              "      <td>1857566</td>\n",
              "      <td>10135138</td>\n",
              "      <td>1</td>\n",
              "      <td>1</td>\n",
              "    </tr>\n",
              "    <tr>\n",
              "      <th>3</th>\n",
              "      <td>528707</td>\n",
              "      <td>0</td>\n",
              "      <td>1</td>\n",
              "      <td>1857566</td>\n",
              "      <td>10135132</td>\n",
              "      <td>1</td>\n",
              "      <td>1</td>\n",
              "    </tr>\n",
              "    <tr>\n",
              "      <th>4</th>\n",
              "      <td>528708</td>\n",
              "      <td>0</td>\n",
              "      <td>1</td>\n",
              "      <td>1857566</td>\n",
              "      <td>10135359</td>\n",
              "      <td>1</td>\n",
              "      <td>1</td>\n",
              "    </tr>\n",
              "  </tbody>\n",
              "</table>\n",
              "</div>\n",
              "      <button class=\"colab-df-convert\" onclick=\"convertToInteractive('df-c4b9a358-2f34-4217-879c-201114d550d4')\"\n",
              "              title=\"Convert this dataframe to an interactive table.\"\n",
              "              style=\"display:none;\">\n",
              "        \n",
              "  <svg xmlns=\"http://www.w3.org/2000/svg\" height=\"24px\"viewBox=\"0 0 24 24\"\n",
              "       width=\"24px\">\n",
              "    <path d=\"M0 0h24v24H0V0z\" fill=\"none\"/>\n",
              "    <path d=\"M18.56 5.44l.94 2.06.94-2.06 2.06-.94-2.06-.94-.94-2.06-.94 2.06-2.06.94zm-11 1L8.5 8.5l.94-2.06 2.06-.94-2.06-.94L8.5 2.5l-.94 2.06-2.06.94zm10 10l.94 2.06.94-2.06 2.06-.94-2.06-.94-.94-2.06-.94 2.06-2.06.94z\"/><path d=\"M17.41 7.96l-1.37-1.37c-.4-.4-.92-.59-1.43-.59-.52 0-1.04.2-1.43.59L10.3 9.45l-7.72 7.72c-.78.78-.78 2.05 0 2.83L4 21.41c.39.39.9.59 1.41.59.51 0 1.02-.2 1.41-.59l7.78-7.78 2.81-2.81c.8-.78.8-2.07 0-2.86zM5.41 20L4 18.59l7.72-7.72 1.47 1.35L5.41 20z\"/>\n",
              "  </svg>\n",
              "      </button>\n",
              "      \n",
              "  <style>\n",
              "    .colab-df-container {\n",
              "      display:flex;\n",
              "      flex-wrap:wrap;\n",
              "      gap: 12px;\n",
              "    }\n",
              "\n",
              "    .colab-df-convert {\n",
              "      background-color: #E8F0FE;\n",
              "      border: none;\n",
              "      border-radius: 50%;\n",
              "      cursor: pointer;\n",
              "      display: none;\n",
              "      fill: #1967D2;\n",
              "      height: 32px;\n",
              "      padding: 0 0 0 0;\n",
              "      width: 32px;\n",
              "    }\n",
              "\n",
              "    .colab-df-convert:hover {\n",
              "      background-color: #E2EBFA;\n",
              "      box-shadow: 0px 1px 2px rgba(60, 64, 67, 0.3), 0px 1px 3px 1px rgba(60, 64, 67, 0.15);\n",
              "      fill: #174EA6;\n",
              "    }\n",
              "\n",
              "    [theme=dark] .colab-df-convert {\n",
              "      background-color: #3B4455;\n",
              "      fill: #D2E3FC;\n",
              "    }\n",
              "\n",
              "    [theme=dark] .colab-df-convert:hover {\n",
              "      background-color: #434B5C;\n",
              "      box-shadow: 0px 1px 3px 1px rgba(0, 0, 0, 0.15);\n",
              "      filter: drop-shadow(0px 1px 2px rgba(0, 0, 0, 0.3));\n",
              "      fill: #FFFFFF;\n",
              "    }\n",
              "  </style>\n",
              "\n",
              "      <script>\n",
              "        const buttonEl =\n",
              "          document.querySelector('#df-c4b9a358-2f34-4217-879c-201114d550d4 button.colab-df-convert');\n",
              "        buttonEl.style.display =\n",
              "          google.colab.kernel.accessAllowed ? 'block' : 'none';\n",
              "\n",
              "        async function convertToInteractive(key) {\n",
              "          const element = document.querySelector('#df-c4b9a358-2f34-4217-879c-201114d550d4');\n",
              "          const dataTable =\n",
              "            await google.colab.kernel.invokeFunction('convertToInteractive',\n",
              "                                                     [key], {});\n",
              "          if (!dataTable) return;\n",
              "\n",
              "          const docLinkHtml = 'Like what you see? Visit the ' +\n",
              "            '<a target=\"_blank\" href=https://colab.research.google.com/notebooks/data_table.ipynb>data table notebook</a>'\n",
              "            + ' to learn more about interactive tables.';\n",
              "          element.innerHTML = '';\n",
              "          dataTable['output_type'] = 'display_data';\n",
              "          await google.colab.output.renderOutput(dataTable, element);\n",
              "          const docLink = document.createElement('div');\n",
              "          docLink.innerHTML = docLinkHtml;\n",
              "          element.appendChild(docLink);\n",
              "        }\n",
              "      </script>\n",
              "    </div>\n",
              "  </div>\n",
              "  "
            ]
          },
          "metadata": {},
          "execution_count": 36
        }
      ]
    },
    {
      "cell_type": "code",
      "metadata": {
        "colab": {
          "base_uri": "https://localhost:8080/"
        },
        "id": "NOydD6AMpm6b",
        "outputId": "ab04401f-1b88-443f-c66c-86c66bf03436"
      },
      "source": [
        "print(irisDataset)"
      ],
      "execution_count": 37,
      "outputs": [
        {
          "output_type": "stream",
          "name": "stdout",
          "text": [
            "      ORDER_NO  DATE  LINE  CUSTOMER_NO      ITEM  NC_ORDER  NC_SHIP\n",
            "0       528703     0     1      1857566  10135139         1        1\n",
            "1       528705     0     1      1857566  10135140         1        1\n",
            "2       528706     0     2      1857566  10135138         1        1\n",
            "3       528707     0     1      1857566  10135132         1        1\n",
            "4       528708     0     1      1857566  10135359         1        1\n",
            "...        ...   ...   ...          ...       ...       ...      ...\n",
            "3657    543485    48     8      2203715  10135140         3        3\n",
            "3658    543488    48     6      2203449   1040468         2        2\n",
            "3659    543488    48     7      2203449   1040466         1        1\n",
            "3660    543491    48     5      2203449  10135358        21       21\n",
            "3661    543491    48     9      2203449  10135363         6        6\n",
            "\n",
            "[3662 rows x 7 columns]\n"
          ]
        }
      ]
    },
    {
      "cell_type": "code",
      "metadata": {
        "id": "yWrMU7yorIzO"
      },
      "source": [
        "#Menghapus kolom \"Id\"\n",
        "irisDataset = irisDataset.drop(labels=\"ORDER_NO\", axis=1)"
      ],
      "execution_count": 38,
      "outputs": []
    },
    {
      "cell_type": "code",
      "metadata": {
        "colab": {
          "base_uri": "https://localhost:8080/"
        },
        "id": "Bylg0dVjp2o9",
        "outputId": "b31f7e60-2d29-4180-e314-04f257f06888"
      },
      "source": [
        "print(irisDataset)"
      ],
      "execution_count": 39,
      "outputs": [
        {
          "output_type": "stream",
          "name": "stdout",
          "text": [
            "      DATE  LINE  CUSTOMER_NO      ITEM  NC_ORDER  NC_SHIP\n",
            "0        0     1      1857566  10135139         1        1\n",
            "1        0     1      1857566  10135140         1        1\n",
            "2        0     2      1857566  10135138         1        1\n",
            "3        0     1      1857566  10135132         1        1\n",
            "4        0     1      1857566  10135359         1        1\n",
            "...    ...   ...          ...       ...       ...      ...\n",
            "3657    48     8      2203715  10135140         3        3\n",
            "3658    48     6      2203449   1040468         2        2\n",
            "3659    48     7      2203449   1040466         1        1\n",
            "3660    48     5      2203449  10135358        21       21\n",
            "3661    48     9      2203449  10135363         6        6\n",
            "\n",
            "[3662 rows x 6 columns]\n"
          ]
        }
      ]
    },
    {
      "cell_type": "code",
      "metadata": {
        "id": "dG-3UdM3rUxu"
      },
      "source": [
        "#Mengubah dataFrame ke array Numpy\n",
        "irisDataset = irisDataset.to_numpy()"
      ],
      "execution_count": 41,
      "outputs": []
    },
    {
      "cell_type": "code",
      "metadata": {
        "id": "F9XJhwAtp_mz",
        "colab": {
          "base_uri": "https://localhost:8080/"
        },
        "outputId": "4fb9816a-45b8-4610-af7b-e3bb0a008006"
      },
      "source": [
        "print(irisDataset)"
      ],
      "execution_count": 42,
      "outputs": [
        {
          "output_type": "stream",
          "name": "stdout",
          "text": [
            "[[       0        1  1857566 10135139        1        1]\n",
            " [       0        1  1857566 10135140        1        1]\n",
            " [       0        2  1857566 10135138        1        1]\n",
            " ...\n",
            " [      48        7  2203449  1040466        1        1]\n",
            " [      48        5  2203449 10135358       21       21]\n",
            " [      48        9  2203449 10135363        6        6]]\n"
          ]
        }
      ]
    },
    {
      "cell_type": "code",
      "metadata": {
        "id": "yAN-UH4kriLH"
      },
      "source": [
        "#Membagi Dataset => 80 baris data untuk training dan 20 baris data untuk testing\n",
        "dataTraining = np.concatenate((irisDataset[0:40, :], irisDataset[50:90, :]), \n",
        "                              axis=0)\n",
        "dataTesting = np.concatenate((irisDataset[40:50, :], irisDataset[90:100, :]), \n",
        "                             axis=0)"
      ],
      "execution_count": 43,
      "outputs": []
    },
    {
      "cell_type": "code",
      "metadata": {
        "id": "3zx8xXAIqV15",
        "colab": {
          "base_uri": "https://localhost:8080/"
        },
        "outputId": "d6779520-01bd-458a-cb7b-2f6a677d101e"
      },
      "source": [
        "print(dataTesting)\n",
        "len(dataTesting)"
      ],
      "execution_count": 44,
      "outputs": [
        {
          "output_type": "stream",
          "name": "stdout",
          "text": [
            "[[       2        3  1254694  1029070        1        1]\n",
            " [       2        4  1254694 10138006        1        1]\n",
            " [       2        5  1254694  1029071        1        1]\n",
            " [       2        6  1254694 10138004        1        1]\n",
            " [       2        7  1254694  1033341        1        1]\n",
            " [       2        8  1254694  1040827        1        1]\n",
            " [       2        9  1254694 10106111        1        1]\n",
            " [       2       10  1254694 10136162        1        1]\n",
            " [       2       11  1254694 10105916        1        1]\n",
            " [       2       12  1254694 10137990        1        1]\n",
            " [       4        3  1509644  1041108        1        1]\n",
            " [       4        4  1509644  1040991        1        1]\n",
            " [       4        5  1509644  1040992        1        1]\n",
            " [       4        6  1509644  1038324        1        1]\n",
            " [       4        7  1509644  1038323        1        1]\n",
            " [       4        8  1509644  1040726        1        1]\n",
            " [       4        9  1509644  1029071        1        1]\n",
            " [       4       10  1509644   110441        1        1]\n",
            " [       4       11  1509644 10098739        3        3]\n",
            " [       4       12  1509644  1039305        1        1]]\n"
          ]
        },
        {
          "output_type": "execute_result",
          "data": {
            "text/plain": [
              "20"
            ]
          },
          "metadata": {},
          "execution_count": 44
        }
      ]
    },
    {
      "cell_type": "code",
      "metadata": {
        "id": "4H9gup4Gs0aX"
      },
      "source": [
        "#Memecah Dataset ke Input dan Label\n",
        "inputTraining = dataTraining[:, 0:4]\n",
        "inputTesting = dataTesting[:, 0:4]\n",
        "labelTraining = dataTraining[:, 4]\n",
        "labelTesting = dataTesting[:, 4]"
      ],
      "execution_count": 45,
      "outputs": []
    },
    {
      "cell_type": "code",
      "metadata": {
        "id": "kco04ijXtRvn"
      },
      "source": [
        "#Mendefinisikan Decision Tree Classifier\n",
        "model = tree.DecisionTreeClassifier()"
      ],
      "execution_count": 46,
      "outputs": []
    },
    {
      "cell_type": "code",
      "metadata": {
        "id": "92Ji3zzNtcJG"
      },
      "source": [
        "#Mentraining Model\n",
        "model = model.fit(inputTraining, labelTraining)"
      ],
      "execution_count": 47,
      "outputs": []
    },
    {
      "cell_type": "code",
      "metadata": {
        "colab": {
          "base_uri": "https://localhost:8080/"
        },
        "id": "xPE9lX1PtlKW",
        "outputId": "5aa9204c-244d-4eee-ef2a-a63ab5910fce"
      },
      "source": [
        "#Memprediksi Input Data Testing\n",
        "hasilPrediksi = model.predict(inputTesting)\n",
        "print(\"Label Sebenarnya : \", labelTesting)\n",
        "print(\"Hasil Prediksi : \", hasilPrediksi)"
      ],
      "execution_count": 48,
      "outputs": [
        {
          "output_type": "stream",
          "name": "stdout",
          "text": [
            "Label Sebenarnya :  [1 1 1 1 1 1 1 1 1 1 1 1 1 1 1 1 1 1 3 1]\n",
            "Hasil Prediksi :  [ 1  1  1  1  1  1  1  1  1  1  1  1  1  1  1  1  1  2  5 20]\n"
          ]
        }
      ]
    },
    {
      "cell_type": "code",
      "metadata": {
        "colab": {
          "base_uri": "https://localhost:8080/"
        },
        "id": "6SMAZMn4uBD1",
        "outputId": "63eece2a-729c-4093-8912-5008e2654495"
      },
      "source": [
        "#Menghitung Akurasi\n",
        "prediksiBenar = (hasilPrediksi == labelTesting).sum()\n",
        "prediksiSalah = (hasilPrediksi != labelTesting).sum()\n",
        "print(\"Prediksi Benar :\", prediksiBenar, \"data\")\n",
        "print(\"Prediksi Salah :\", prediksiSalah, \"data\")\n",
        "print(\"Akurasi :\", prediksiBenar/(prediksiBenar+prediksiSalah) * 100, \"%\")"
      ],
      "execution_count": 49,
      "outputs": [
        {
          "output_type": "stream",
          "name": "stdout",
          "text": [
            "Prediksi Benar : 17 data\n",
            "Prediksi Salah : 3 data\n",
            "Akurasi : 85.0 %\n"
          ]
        }
      ]
    }
  ]
}